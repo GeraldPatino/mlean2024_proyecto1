{
 "cells": [
  {
   "cell_type": "code",
   "execution_count": null,
   "metadata": {
    "executionInfo": {
     "elapsed": 12630,
     "status": "ok",
     "timestamp": 1730513820033,
     "user": {
      "displayName": "geraldine patiño",
      "userId": "03107176141086753158"
     },
     "user_tz": 300
    },
    "id": "7RRcpRHrLoly"
   },
   "outputs": [],
   "source": [
    "# Importar las librerías necesarias\n",
    "import pandas as pd\n",
    "from sklearn.model_selection import train_test_split\n",
    "from sklearn.pipeline import Pipeline\n",
    "from sklearn.preprocessing import StandardScaler, OneHotEncoder\n",
    "from sklearn.compose import ColumnTransformer\n",
    "from sklearn.svm import SVC\n",
    "from sklearn.naive_bayes import GaussianNB\n",
    "from sklearn.neighbors import KNeighborsClassifier\n",
    "from sklearn.ensemble import GradientBoostingClassifier\n",
    "from sklearn.metrics import accuracy_score, classification_report"
   ]
  },
  {
   "cell_type": "code",
   "execution_count": null,
   "metadata": {
    "executionInfo": {
     "elapsed": 395,
     "status": "ok",
     "timestamp": 1730513846032,
     "user": {
      "displayName": "geraldine patiño",
      "userId": "03107176141086753158"
     },
     "user_tz": 300
    },
    "id": "PcdOVLt5pObq"
   },
   "outputs": [],
   "source": [
    "# Cargar el dataset\n",
    "data = pd.read_csv('/content/data_adults.csv')  "
   ]
  },
  {
   "cell_type": "code",
   "execution_count": null,
   "metadata": {
    "executionInfo": {
     "elapsed": 203,
     "status": "ok",
     "timestamp": 1730513852147,
     "user": {
      "displayName": "geraldine patiño",
      "userId": "03107176141086753158"
     },
     "user_tz": 300
    },
    "id": "xtx8M-MXpTFY"
   },
   "outputs": [],
   "source": [
    "# Identificar características y objetivo\n",
    "X = data.drop('income', axis=1)  \n",
    "y = data['income']  "
   ]
  },
  {
   "cell_type": "code",
   "execution_count": 4,
   "metadata": {
    "executionInfo": {
     "elapsed": 191,
     "status": "ok",
     "timestamp": 1730513867967,
     "user": {
      "displayName": "geraldine patiño",
      "userId": "03107176141086753158"
     },
     "user_tz": 300
    },
    "id": "qW754jG7pdH8"
   },
   "outputs": [],
   "source": [
    "# Identificar columnas numéricas y categóricas\n",
    "numeric_features = X.select_dtypes(include=['int64', 'float64']).columns\n",
    "categorical_features = X.select_dtypes(include=['object']).columns"
   ]
  },
  {
   "cell_type": "code",
   "execution_count": 5,
   "metadata": {
    "executionInfo": {
     "elapsed": 251,
     "status": "ok",
     "timestamp": 1730513899400,
     "user": {
      "displayName": "geraldine patiño",
      "userId": "03107176141086753158"
     },
     "user_tz": 300
    },
    "id": "mGHZk7E0pdEj"
   },
   "outputs": [],
   "source": [
    "# Preprocesamiento: escalado para características numéricas y One-Hot Encoding denso para categóricas\n",
    "preprocessor = ColumnTransformer(\n",
    "    transformers=[\n",
    "        ('num', StandardScaler(), numeric_features),\n",
    "        ('cat', OneHotEncoder(handle_unknown='ignore', sparse_output=False), categorical_features)\n",
    "    ]\n",
    ")\n"
   ]
  },
  {
   "cell_type": "code",
   "execution_count": 6,
   "metadata": {
    "executionInfo": {
     "elapsed": 186,
     "status": "ok",
     "timestamp": 1730513909481,
     "user": {
      "displayName": "geraldine patiño",
      "userId": "03107176141086753158"
     },
     "user_tz": 300
    },
    "id": "fTmwQuRspsAM"
   },
   "outputs": [],
   "source": [
    "# Definir los pipelines para cada modelo\n",
    "pipelines = {\n",
    "    'SVC': Pipeline([\n",
    "        ('preprocessor', preprocessor),\n",
    "        ('svc', SVC())\n",
    "    ]),\n",
    "    'Naive Bayes': Pipeline([\n",
    "        ('preprocessor', preprocessor),\n",
    "        ('nb', GaussianNB())\n",
    "    ]),\n",
    "    'K-Nearest Neighbors': Pipeline([\n",
    "        ('preprocessor', preprocessor),\n",
    "        ('knn', KNeighborsClassifier())\n",
    "    ]),\n",
    "    'Gradient Boosting': Pipeline([\n",
    "        ('preprocessor', preprocessor),\n",
    "        ('gboost', GradientBoostingClassifier())\n",
    "    ])\n",
    "}"
   ]
  },
  {
   "cell_type": "code",
   "execution_count": 7,
   "metadata": {
    "executionInfo": {
     "elapsed": 220,
     "status": "ok",
     "timestamp": 1730513914744,
     "user": {
      "displayName": "geraldine patiño",
      "userId": "03107176141086753158"
     },
     "user_tz": 300
    },
    "id": "Y4Nd07uRpy9z"
   },
   "outputs": [],
   "source": [
    "# Dividir en conjunto de entrenamiento y prueba\n",
    "X_train, X_test, y_train, y_test = train_test_split(X, y, test_size=0.2, random_state=42)"
   ]
  },
  {
   "cell_type": "code",
   "execution_count": 8,
   "metadata": {
    "colab": {
     "base_uri": "https://localhost:8080/"
    },
    "executionInfo": {
     "elapsed": 658746,
     "status": "ok",
     "timestamp": 1730514580223,
     "user": {
      "displayName": "geraldine patiño",
      "userId": "03107176141086753158"
     },
     "user_tz": 300
    },
    "id": "5eGqcS_4p2AS",
    "outputId": "32e2b23f-8ee1-4d03-d873-cbfe8d95fd64"
   },
   "outputs": [
    {
     "name": "stdout",
     "output_type": "stream",
     "text": [
      "Modelo: SVC\n",
      "Precisión: 0.5915651550824035\n",
      "Reporte de Clasificación:\n",
      "              precision    recall  f1-score   support\n",
      "\n",
      "       <=50K       0.60      0.94      0.73      4936\n",
      "      <=50K.       0.93      0.08      0.15      2478\n",
      "        >50K       0.52      0.58      0.54      1562\n",
      "       >50K.       0.78      0.02      0.04       793\n",
      "\n",
      "    accuracy                           0.59      9769\n",
      "   macro avg       0.71      0.41      0.37      9769\n",
      "weighted avg       0.68      0.59      0.50      9769\n",
      "\n",
      "==================================================\n",
      "Modelo: Naive Bayes\n",
      "Precisión: 0.2241785239021394\n",
      "Reporte de Clasificación:\n",
      "              precision    recall  f1-score   support\n",
      "\n",
      "       <=50K       0.74      0.11      0.18      4936\n",
      "      <=50K.       0.37      0.31      0.34      2478\n",
      "        >50K       0.17      0.13      0.14      1562\n",
      "       >50K.       0.12      0.87      0.21       793\n",
      "\n",
      "    accuracy                           0.22      9769\n",
      "   macro avg       0.35      0.36      0.22      9769\n",
      "weighted avg       0.50      0.22      0.22      9769\n",
      "\n",
      "==================================================\n",
      "Modelo: K-Nearest Neighbors\n",
      "Precisión: 0.5197051898863753\n",
      "Reporte de Clasificación:\n",
      "              precision    recall  f1-score   support\n",
      "\n",
      "       <=50K       0.59      0.77      0.67      4936\n",
      "      <=50K.       0.36      0.24      0.29      2478\n",
      "        >50K       0.45      0.41      0.43      1562\n",
      "       >50K.       0.21      0.09      0.12       793\n",
      "\n",
      "    accuracy                           0.52      9769\n",
      "   macro avg       0.40      0.37      0.38      9769\n",
      "weighted avg       0.48      0.52      0.49      9769\n",
      "\n",
      "==================================================\n",
      "Modelo: Gradient Boosting\n",
      "Precisión: 0.5976046678267991\n",
      "Reporte de Clasificación:\n",
      "              precision    recall  f1-score   support\n",
      "\n",
      "       <=50K       0.60      0.95      0.74      4936\n",
      "      <=50K.       0.91      0.09      0.16      2478\n",
      "        >50K       0.54      0.58      0.56      1562\n",
      "       >50K.       0.69      0.03      0.06       793\n",
      "\n",
      "    accuracy                           0.60      9769\n",
      "   macro avg       0.69      0.41      0.38      9769\n",
      "weighted avg       0.68      0.60      0.51      9769\n",
      "\n",
      "==================================================\n"
     ]
    }
   ],
   "source": [
    "# Entrenar y evaluar cada pipeline\n",
    "results = {}\n",
    "for model_name, pipeline in pipelines.items():\n",
    "    # Entrenar el modelo\n",
    "    pipeline.fit(X_train, y_train)\n",
    "\n",
    "    # Predecir\n",
    "    y_pred = pipeline.predict(X_test)\n",
    "\n",
    "    # Calcular la precisión y el informe de clasificación\n",
    "    accuracy = accuracy_score(y_test, y_pred)\n",
    "    report = classification_report(y_test, y_pred)\n",
    "\n",
    "    # Guardar los resultados\n",
    "    results[model_name] = {\n",
    "        'Accuracy': accuracy,\n",
    "        'Classification Report': report\n",
    "    }\n",
    "    print(f\"Modelo: {model_name}\")\n",
    "    print(f\"Precisión: {accuracy}\")\n",
    "    print(f\"Reporte de Clasificación:\\n{report}\")\n",
    "    print(\"=\"*50)"
   ]
  },
  {
   "cell_type": "code",
   "execution_count": 9,
   "metadata": {
    "colab": {
     "base_uri": "https://localhost:8080/"
    },
    "executionInfo": {
     "elapsed": 205,
     "status": "ok",
     "timestamp": 1730514987386,
     "user": {
      "displayName": "geraldine patiño",
      "userId": "03107176141086753158"
     },
     "user_tz": 300
    },
    "id": "GTbe8X_Gp-Zg",
    "outputId": "5058b7f5-21c6-49f7-c6ea-2a22707b819f"
   },
   "outputs": [
    {
     "name": "stdout",
     "output_type": "stream",
     "text": [
      "El mejor modelo es: Gradient Boosting con una precisión de 0.5976046678267991\n"
     ]
    }
   ],
   "source": [
    "# Comparación de modelos\n",
    "best_model = max(results, key=lambda x: results[x]['Accuracy'])\n",
    "print(f\"El mejor modelo es: {best_model} con una precisión de {results[best_model]['Accuracy']}\")"
   ]
  }
 ],
 "metadata": {
  "colab": {
   "authorship_tag": "ABX9TyMIQKg6RTm7eoLy/2rSizGs",
   "provenance": []
  },
  "kernelspec": {
   "display_name": "Python 3",
   "name": "python3"
  },
  "language_info": {
   "name": "python"
  }
 },
 "nbformat": 4,
 "nbformat_minor": 0
}
